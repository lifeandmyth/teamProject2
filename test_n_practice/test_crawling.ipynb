{
 "cells": [
  {
   "cell_type": "code",
   "execution_count": 13,
   "id": "da3781a1-f7b5-4b1a-ac7c-747d5f9900b0",
   "metadata": {},
   "outputs": [],
   "source": [
    "# 데이터 수집을 위해 필요한 라이브러리 호출\n",
    "# pip install beautifulsoup4\n",
    "# pip install requests\n",
    "import requests as req\n",
    "from bs4 import BeautifulSoup as BS\n",
    "import datetime\n",
    "import os"
   ]
  },
  {
   "cell_type": "code",
   "execution_count": 14,
   "id": "2a96cb96-00d6-42ee-957d-ec44c66f2e54",
   "metadata": {},
   "outputs": [],
   "source": [
    "\n",
    "# HTML 가져오기\n",
    "url = \"https://finance.naver.com/marketindex/\"\n",
    "res_html = req.get(url)\n",
    "\n",
    "# 해당 url의 text만 가져와서 html.parser로 파싱한 BS 객체\n",
    "soup = BS(res_html.text, \"html.parser\")\n",
    "# urllib : 파이썬 내장 lib\n",
    "# import urllib.request\n",
    "\n"
   ]
  },
  {
   "cell_type": "code",
   "execution_count": 15,
   "id": "be30478b-b45d-4e73-800f-9e814d7b7735",
   "metadata": {},
   "outputs": [
    {
     "name": "stdout",
     "output_type": "stream",
     "text": [
      "1,286.00\n",
      "usd/krw 1,286.00\n",
      "<class 'str'>\n"
     ]
    }
   ],
   "source": [
    "# HTML 분석하기\n",
    "# 원하는 데이터 추출하기 -- (※1)\n",
    "# 이것만 정답이 아니다. 다른 태그를 지정해서 갖고 오는 것도 가능.\n",
    "# 바로 밑이면 >, 아니면 그냥 띄워놓기\n",
    "# soup.select() : 지정한 요소를 찾아서 모두 list로 리턴함\n",
    "# soup.select_one() : 지정한 요소 첫번째 것만 리턴함\n",
    "# price = soup.select(\"div.market1 div.head_info > span.value\")\n",
    "# print(price[0].text)\n",
    "\n",
    "# 가장 먼저 뽑아오는 하나만 갖고 오기\n",
    "# 문법의 확장선상으로 미리 .text를 붙여 처리도 가능\n",
    "price = soup.select_one(\"div.market1 div.head_info > span.value\").text\n",
    "print(price)\n",
    "print(\"usd/krw\", price)\n",
    "\n",
    "# price값을 DB에 입력할 때는 숫자(int)값으로 넣어야 하고, 콤마(,)도 제거해야 한다.\n",
    "# 콤마 제거 : , 를 '없음'으로\n",
    "price = price.replace(',','')\n",
    "print(type(price))\n",
    "# 저장할 파일 이름 구하기\n",
    "now_t = datetime.datetime.today()\n",
    "\n",
    "# 날짜 시간값을 원하는 포맷으로 변경\n",
    "now_t = now_t.strftime(\"%Y-%m-%d-%H\")\n",
    "# 저장 file 이름 문자열로 정의\n",
    "fname = now_t + \".csv\"\n",
    "# 파일로 저장하기\n",
    "# with open(fname, \"w\", encoding=\"utf-8\") as f:\n",
    "#     f.write(now_t + \",\" + price)\n",
    "\n"
   ]
  },
  {
   "cell_type": "code",
   "execution_count": 16,
   "id": "975ec97c-52f4-4d15-9282-354a4e94783d",
   "metadata": {},
   "outputs": [],
   "source": [
    "# 문제1 : dollar_data/ 폴더가 없다면 폴더를 만들고\n",
    "# 그 폴더에 파일을 저장해라\n",
    "\n",
    "save_dir = \"dollar_data/\"\n",
    "if not os.path.exists(save_dir):\n",
    "  os.makedirs(save_dir, exist_ok=True) \n",
    "\n",
    "fname = save_dir + fname\n",
    "with open(fname, \"w\", encoding=\"utf-8\") as f:\n",
    "  f.write(now_t + \",\" + price)"
   ]
  },
  {
   "cell_type": "code",
   "execution_count": null,
   "id": "f9117bae-0147-4179-8f28-3901d4cf868a",
   "metadata": {},
   "outputs": [],
   "source": []
  }
 ],
 "metadata": {
  "kernelspec": {
   "display_name": "t_project_venv",
   "language": "python",
   "name": "t_project_venv"
  },
  "language_info": {
   "codemirror_mode": {
    "name": "ipython",
    "version": 3
   },
   "file_extension": ".py",
   "mimetype": "text/x-python",
   "name": "python",
   "nbconvert_exporter": "python",
   "pygments_lexer": "ipython3",
   "version": "3.9.13"
  }
 },
 "nbformat": 4,
 "nbformat_minor": 5
}
