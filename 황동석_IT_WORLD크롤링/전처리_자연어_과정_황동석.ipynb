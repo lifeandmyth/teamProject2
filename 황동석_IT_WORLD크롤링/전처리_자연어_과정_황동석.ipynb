{
 "cells": [
  {
   "cell_type": "code",
   "execution_count": 1,
   "id": "b2a32fc2-32dc-458a-ac9b-b0dee851f6c3",
   "metadata": {
    "tags": []
   },
   "outputs": [
    {
     "name": "stdout",
     "output_type": "stream",
     "text": [
      "['Malgun Gothic']\n"
     ]
    }
   ],
   "source": [
    "# warning 무시\n",
    "import warnings\n",
    "warnings.filterwarnings('ignore')\n",
    "\n",
    "import matplotlib.pylab as plt\n",
    "# '-' 깨짐 해결 모듈\n",
    "import matplotlib as mpl\n",
    "\n",
    "plt.rcParams[\"font.family\"] = \"Malgun Gothic\"  # For Windows\n",
    "plt.rcParams[\"font.size\"] = 12\n",
    "plt.rcParams[\"figure.figsize\"] = (8,4)\n",
    "print(plt.rcParams[\"font.family\"])\n",
    "\n",
    "# 마이너스 깨짐 해결\n",
    "mpl.rcParams[\"axes.unicode_minus\"] = False\n",
    "\n",
    "from sklearn.datasets import load_breast_cancer\n",
    "from sklearn.model_selection import train_test_split\n",
    "from sklearn.datasets import load_iris\n",
    "from sklearn.tree import DecisionTreeClassifier\n",
    "from sklearn.preprocessing import LabelEncoder\n",
    "from sklearn.metrics import classification_report\n",
    "from sklearn.tree import plot_tree\n",
    "from sklearn.linear_model import LinearRegression\n",
    "from sklearn.model_selection import train_test_split\n",
    "from sklearn.metrics import mean_squared_error\n",
    "from sklearn.metrics import accuracy_score\n",
    "from sklearn.ensemble import RandomForestClassifier\n",
    "from sklearn.preprocessing import OneHotEncoder\n",
    "from bs4 import BeautifulSoup\n",
    "from xgboost import XGBRegressor\n",
    "from sklearn.metrics import r2_score\n",
    "\n",
    "from konlpy.tag import Okt\n",
    "from collections import Counter\n",
    "from konlpy.tag import Komoran\n",
    "from nltk.tokenize import word_tokenize\n",
    "\n",
    "\n",
    "import numpy as np\n",
    "import pandas as pd\n",
    "import pandas as pd\n",
    "import requests\n",
    "import datetime\n",
    "import matplotlib.pyplot as plt\n",
    "import seaborn as sns"
   ]
  },
  {
   "cell_type": "code",
   "execution_count": 2,
   "id": "fe70e3ac-851e-44f8-a290-3caac35cc57f",
   "metadata": {
    "tags": []
   },
   "outputs": [],
   "source": [
    "test = pd.read_csv('data/IT_WORLD_Cra4.csv')"
   ]
  },
  {
   "cell_type": "code",
   "execution_count": 3,
   "id": "04a1e73f-e46b-4cd0-947e-0f50daccc57e",
   "metadata": {
    "tags": []
   },
   "outputs": [
    {
     "data": {
      "text/plain": [
       "작성일\n",
       "2023.01.12    1\n",
       "2023.01.13    3\n",
       "2023.01.16    3\n",
       "2023.01.17    2\n",
       "2023.01.19    2\n",
       "             ..\n",
       "2023.05.23    2\n",
       "2023.05.25    1\n",
       "2023.05.26    1\n",
       "2023.05.30    1\n",
       "2023.05.31    3\n",
       "Name: count, Length: 80, dtype: int64"
      ]
     },
     "execution_count": 3,
     "metadata": {},
     "output_type": "execute_result"
    }
   ],
   "source": [
    "test['작성일'].value_counts().sort_index()"
   ]
  },
  {
   "cell_type": "code",
   "execution_count": 4,
   "id": "d5b4700f-7391-4d27-910a-cdbe1a24b530",
   "metadata": {
    "tags": []
   },
   "outputs": [],
   "source": [
    "# Null/NaN(결손) 데이터를 제거\n",
    "test.dropna(inplace=True)"
   ]
  },
  {
   "cell_type": "code",
   "execution_count": 5,
   "id": "2cee4f13-ae7a-4ecf-a09c-3de56ddf36a5",
   "metadata": {
    "tags": []
   },
   "outputs": [],
   "source": [
    "# 불필요한 column 제거\n",
    "test.drop(['LABEL-1','제목','주소','태그1','태그2','태그3'], axis=1, inplace=True)"
   ]
  },
  {
   "cell_type": "code",
   "execution_count": 7,
   "id": "c8f31b57-63e4-4426-af2a-82fe2a5a8204",
   "metadata": {
    "tags": []
   },
   "outputs": [],
   "source": [
    "# Null/NaN(결손) 데이터를 제거\n",
    "test.dropna(inplace=True)"
   ]
  },
  {
   "cell_type": "code",
   "execution_count": 8,
   "id": "3803a603-117e-4450-8606-07bd04f5b69c",
   "metadata": {
    "tags": []
   },
   "outputs": [
    {
     "data": {
      "text/html": [
       "<div>\n",
       "<style scoped>\n",
       "    .dataframe tbody tr th:only-of-type {\n",
       "        vertical-align: middle;\n",
       "    }\n",
       "\n",
       "    .dataframe tbody tr th {\n",
       "        vertical-align: top;\n",
       "    }\n",
       "\n",
       "    .dataframe thead th {\n",
       "        text-align: right;\n",
       "    }\n",
       "</style>\n",
       "<table border=\"1\" class=\"dataframe\">\n",
       "  <thead>\n",
       "    <tr style=\"text-align: right;\">\n",
       "      <th></th>\n",
       "      <th>내용</th>\n",
       "      <th>작성일</th>\n",
       "    </tr>\n",
       "  </thead>\n",
       "  <tbody>\n",
       "    <tr>\n",
       "      <th>0</th>\n",
       "      <td>가전전시회로 시작한 CES가 점점 더 대형 자동차 전시회로 변모하고 있다. 디지털화...</td>\n",
       "      <td>2023.01.12</td>\n",
       "    </tr>\n",
       "    <tr>\n",
       "      <th>1</th>\n",
       "      <td>CMO 위원회(CMO Council)의 최신 보고서에 따르면 마케터 3명 중 2명은...</td>\n",
       "      <td>2023.01.13</td>\n",
       "    </tr>\n",
       "    <tr>\n",
       "      <th>2</th>\n",
       "      <td>최근 ESG(Enterprise Strategy Group)는 2023년의 사이버보...</td>\n",
       "      <td>2023.01.13</td>\n",
       "    </tr>\n",
       "    <tr>\n",
       "      <th>3</th>\n",
       "      <td>PC 마니아와 게이머들이 몇 년 동안 애타게 기다려온 OLED 모니터의 대중화가 2...</td>\n",
       "      <td>2023.01.13</td>\n",
       "    </tr>\n",
       "    <tr>\n",
       "      <th>4</th>\n",
       "      <td>알파벳의 기타 부서 감원 계획에 자회사인 인트린직 AI(Intrinsic AI) 인...</td>\n",
       "      <td>2023.01.16</td>\n",
       "    </tr>\n",
       "    <tr>\n",
       "      <th>...</th>\n",
       "      <td>...</td>\n",
       "      <td>...</td>\n",
       "    </tr>\n",
       "    <tr>\n",
       "      <th>169</th>\n",
       "      <td>넷플릭스는 계정 공유가 더는 허용되지 않는다는 사실을 더 널리 알리고 싶어 한다. ...</td>\n",
       "      <td>2023.05.26</td>\n",
       "    </tr>\n",
       "    <tr>\n",
       "      <th>170</th>\n",
       "      <td>베리타스에 따르면 전 세계 Z세대(18~24세)의 60%가 사용하지 않는 온라인 계...</td>\n",
       "      <td>2023.05.30</td>\n",
       "    </tr>\n",
       "    <tr>\n",
       "      <th>171</th>\n",
       "      <td>2006년 1월, 애플은 비즈니스 세계에서 성공을 향한 중요한 발걸음을 내디뎠다. ...</td>\n",
       "      <td>2023.05.31</td>\n",
       "    </tr>\n",
       "    <tr>\n",
       "      <th>172</th>\n",
       "      <td>IT 인력에 대한 수요가 증가한다. 인력 시장이 여전히 경색되어 있다. CIO로서는...</td>\n",
       "      <td>2023.05.31</td>\n",
       "    </tr>\n",
       "    <tr>\n",
       "      <th>173</th>\n",
       "      <td>AI와 관련한 핵심 투자처를 물색하던 투자자들이 기반을 찾은 것으로 보인다. 30일...</td>\n",
       "      <td>2023.05.31</td>\n",
       "    </tr>\n",
       "  </tbody>\n",
       "</table>\n",
       "<p>174 rows × 2 columns</p>\n",
       "</div>"
      ],
      "text/plain": [
       "                                                    내용         작성일\n",
       "0    가전전시회로 시작한 CES가 점점 더 대형 자동차 전시회로 변모하고 있다. 디지털화...  2023.01.12\n",
       "1    CMO 위원회(CMO Council)의 최신 보고서에 따르면 마케터 3명 중 2명은...  2023.01.13\n",
       "2    최근 ESG(Enterprise Strategy Group)는 2023년의 사이버보...  2023.01.13\n",
       "3    PC 마니아와 게이머들이 몇 년 동안 애타게 기다려온 OLED 모니터의 대중화가 2...  2023.01.13\n",
       "4    알파벳의 기타 부서 감원 계획에 자회사인 인트린직 AI(Intrinsic AI) 인...  2023.01.16\n",
       "..                                                 ...         ...\n",
       "169  넷플릭스는 계정 공유가 더는 허용되지 않는다는 사실을 더 널리 알리고 싶어 한다. ...  2023.05.26\n",
       "170  베리타스에 따르면 전 세계 Z세대(18~24세)의 60%가 사용하지 않는 온라인 계...  2023.05.30\n",
       "171  2006년 1월, 애플은 비즈니스 세계에서 성공을 향한 중요한 발걸음을 내디뎠다. ...  2023.05.31\n",
       "172  IT 인력에 대한 수요가 증가한다. 인력 시장이 여전히 경색되어 있다. CIO로서는...  2023.05.31\n",
       "173  AI와 관련한 핵심 투자처를 물색하던 투자자들이 기반을 찾은 것으로 보인다. 30일...  2023.05.31\n",
       "\n",
       "[174 rows x 2 columns]"
      ]
     },
     "execution_count": 8,
     "metadata": {},
     "output_type": "execute_result"
    }
   ],
   "source": [
    "test"
   ]
  },
  {
   "cell_type": "code",
   "execution_count": 9,
   "id": "9b99c7c2-6f88-42d3-a5e4-3bf1692d827e",
   "metadata": {
    "tags": []
   },
   "outputs": [],
   "source": [
    "# 새로운 CSV 파일 경로 및 이름\n",
    "test_file = 'data/test_data2.csv'\n",
    "\n",
    "# 데이터프레임을 새로운 CSV 파일로 저장\n",
    "test.to_csv(test_file, index=False)"
   ]
  },
  {
   "cell_type": "code",
   "execution_count": 10,
   "id": "29faf1bc-b095-47db-a076-50ff42ab6d4f",
   "metadata": {
    "tags": []
   },
   "outputs": [
    {
     "data": {
      "text/html": [
       "<div>\n",
       "<style scoped>\n",
       "    .dataframe tbody tr th:only-of-type {\n",
       "        vertical-align: middle;\n",
       "    }\n",
       "\n",
       "    .dataframe tbody tr th {\n",
       "        vertical-align: top;\n",
       "    }\n",
       "\n",
       "    .dataframe thead th {\n",
       "        text-align: right;\n",
       "    }\n",
       "</style>\n",
       "<table border=\"1\" class=\"dataframe\">\n",
       "  <thead>\n",
       "    <tr style=\"text-align: right;\">\n",
       "      <th></th>\n",
       "      <th>내용</th>\n",
       "      <th>작성일</th>\n",
       "    </tr>\n",
       "  </thead>\n",
       "  <tbody>\n",
       "    <tr>\n",
       "      <th>0</th>\n",
       "      <td>가전전시회로 시작한 CES가 점점 더 대형 자동차 전시회로 변모하고 있다. 디지털화...</td>\n",
       "      <td>2023.01.12</td>\n",
       "    </tr>\n",
       "    <tr>\n",
       "      <th>1</th>\n",
       "      <td>CMO 위원회(CMO Council)의 최신 보고서에 따르면 마케터 3명 중 2명은...</td>\n",
       "      <td>2023.01.13</td>\n",
       "    </tr>\n",
       "    <tr>\n",
       "      <th>2</th>\n",
       "      <td>최근 ESG(Enterprise Strategy Group)는 2023년의 사이버보...</td>\n",
       "      <td>2023.01.13</td>\n",
       "    </tr>\n",
       "    <tr>\n",
       "      <th>3</th>\n",
       "      <td>PC 마니아와 게이머들이 몇 년 동안 애타게 기다려온 OLED 모니터의 대중화가 2...</td>\n",
       "      <td>2023.01.13</td>\n",
       "    </tr>\n",
       "    <tr>\n",
       "      <th>4</th>\n",
       "      <td>알파벳의 기타 부서 감원 계획에 자회사인 인트린직 AI(Intrinsic AI) 인...</td>\n",
       "      <td>2023.01.16</td>\n",
       "    </tr>\n",
       "    <tr>\n",
       "      <th>...</th>\n",
       "      <td>...</td>\n",
       "      <td>...</td>\n",
       "    </tr>\n",
       "    <tr>\n",
       "      <th>169</th>\n",
       "      <td>넷플릭스는 계정 공유가 더는 허용되지 않는다는 사실을 더 널리 알리고 싶어 한다. ...</td>\n",
       "      <td>2023.05.26</td>\n",
       "    </tr>\n",
       "    <tr>\n",
       "      <th>170</th>\n",
       "      <td>베리타스에 따르면 전 세계 Z세대(18~24세)의 60%가 사용하지 않는 온라인 계...</td>\n",
       "      <td>2023.05.30</td>\n",
       "    </tr>\n",
       "    <tr>\n",
       "      <th>171</th>\n",
       "      <td>2006년 1월, 애플은 비즈니스 세계에서 성공을 향한 중요한 발걸음을 내디뎠다. ...</td>\n",
       "      <td>2023.05.31</td>\n",
       "    </tr>\n",
       "    <tr>\n",
       "      <th>172</th>\n",
       "      <td>IT 인력에 대한 수요가 증가한다. 인력 시장이 여전히 경색되어 있다. CIO로서는...</td>\n",
       "      <td>2023.05.31</td>\n",
       "    </tr>\n",
       "    <tr>\n",
       "      <th>173</th>\n",
       "      <td>AI와 관련한 핵심 투자처를 물색하던 투자자들이 기반을 찾은 것으로 보인다. 30일...</td>\n",
       "      <td>2023.05.31</td>\n",
       "    </tr>\n",
       "  </tbody>\n",
       "</table>\n",
       "<p>174 rows × 2 columns</p>\n",
       "</div>"
      ],
      "text/plain": [
       "                                                    내용         작성일\n",
       "0    가전전시회로 시작한 CES가 점점 더 대형 자동차 전시회로 변모하고 있다. 디지털화...  2023.01.12\n",
       "1    CMO 위원회(CMO Council)의 최신 보고서에 따르면 마케터 3명 중 2명은...  2023.01.13\n",
       "2    최근 ESG(Enterprise Strategy Group)는 2023년의 사이버보...  2023.01.13\n",
       "3    PC 마니아와 게이머들이 몇 년 동안 애타게 기다려온 OLED 모니터의 대중화가 2...  2023.01.13\n",
       "4    알파벳의 기타 부서 감원 계획에 자회사인 인트린직 AI(Intrinsic AI) 인...  2023.01.16\n",
       "..                                                 ...         ...\n",
       "169  넷플릭스는 계정 공유가 더는 허용되지 않는다는 사실을 더 널리 알리고 싶어 한다. ...  2023.05.26\n",
       "170  베리타스에 따르면 전 세계 Z세대(18~24세)의 60%가 사용하지 않는 온라인 계...  2023.05.30\n",
       "171  2006년 1월, 애플은 비즈니스 세계에서 성공을 향한 중요한 발걸음을 내디뎠다. ...  2023.05.31\n",
       "172  IT 인력에 대한 수요가 증가한다. 인력 시장이 여전히 경색되어 있다. CIO로서는...  2023.05.31\n",
       "173  AI와 관련한 핵심 투자처를 물색하던 투자자들이 기반을 찾은 것으로 보인다. 30일...  2023.05.31\n",
       "\n",
       "[174 rows x 2 columns]"
      ]
     },
     "execution_count": 10,
     "metadata": {},
     "output_type": "execute_result"
    }
   ],
   "source": [
    "test_df = pd.read_table('data/test_data2.csv', sep=',')\n",
    "test_df"
   ]
  },
  {
   "cell_type": "code",
   "execution_count": 11,
   "id": "e2cecc50-2a92-4d4f-963b-6e63d1448f83",
   "metadata": {
    "tags": []
   },
   "outputs": [
    {
     "data": {
      "text/html": [
       "<div>\n",
       "<style scoped>\n",
       "    .dataframe tbody tr th:only-of-type {\n",
       "        vertical-align: middle;\n",
       "    }\n",
       "\n",
       "    .dataframe tbody tr th {\n",
       "        vertical-align: top;\n",
       "    }\n",
       "\n",
       "    .dataframe thead th {\n",
       "        text-align: right;\n",
       "    }\n",
       "</style>\n",
       "<table border=\"1\" class=\"dataframe\">\n",
       "  <thead>\n",
       "    <tr style=\"text-align: right;\">\n",
       "      <th></th>\n",
       "      <th>내용</th>\n",
       "      <th>작성일</th>\n",
       "    </tr>\n",
       "  </thead>\n",
       "  <tbody>\n",
       "    <tr>\n",
       "      <th>169</th>\n",
       "      <td>넷플릭스는 계정 공유가 더는 허용되지 않는다는 사실을 더 널리 알리고 싶어 한다. ...</td>\n",
       "      <td>2023.05.26</td>\n",
       "    </tr>\n",
       "    <tr>\n",
       "      <th>170</th>\n",
       "      <td>베리타스에 따르면 전 세계 Z세대(18~24세)의 60%가 사용하지 않는 온라인 계...</td>\n",
       "      <td>2023.05.30</td>\n",
       "    </tr>\n",
       "    <tr>\n",
       "      <th>171</th>\n",
       "      <td>2006년 1월, 애플은 비즈니스 세계에서 성공을 향한 중요한 발걸음을 내디뎠다. ...</td>\n",
       "      <td>2023.05.31</td>\n",
       "    </tr>\n",
       "    <tr>\n",
       "      <th>172</th>\n",
       "      <td>IT 인력에 대한 수요가 증가한다. 인력 시장이 여전히 경색되어 있다. CIO로서는...</td>\n",
       "      <td>2023.05.31</td>\n",
       "    </tr>\n",
       "    <tr>\n",
       "      <th>173</th>\n",
       "      <td>AI와 관련한 핵심 투자처를 물색하던 투자자들이 기반을 찾은 것으로 보인다. 30일...</td>\n",
       "      <td>2023.05.31</td>\n",
       "    </tr>\n",
       "  </tbody>\n",
       "</table>\n",
       "</div>"
      ],
      "text/plain": [
       "                                                    내용         작성일\n",
       "169  넷플릭스는 계정 공유가 더는 허용되지 않는다는 사실을 더 널리 알리고 싶어 한다. ...  2023.05.26\n",
       "170  베리타스에 따르면 전 세계 Z세대(18~24세)의 60%가 사용하지 않는 온라인 계...  2023.05.30\n",
       "171  2006년 1월, 애플은 비즈니스 세계에서 성공을 향한 중요한 발걸음을 내디뎠다. ...  2023.05.31\n",
       "172  IT 인력에 대한 수요가 증가한다. 인력 시장이 여전히 경색되어 있다. CIO로서는...  2023.05.31\n",
       "173  AI와 관련한 핵심 투자처를 물색하던 투자자들이 기반을 찾은 것으로 보인다. 30일...  2023.05.31"
      ]
     },
     "execution_count": 11,
     "metadata": {},
     "output_type": "execute_result"
    }
   ],
   "source": [
    "test_df.tail(5)"
   ]
  },
  {
   "cell_type": "code",
   "execution_count": 12,
   "id": "28ba1f13-9b88-4f31-8592-adaa1dce325c",
   "metadata": {
    "tags": []
   },
   "outputs": [],
   "source": [
    "okt = Okt()"
   ]
  },
  {
   "cell_type": "code",
   "execution_count": 13,
   "id": "fe08b810-f3e8-47c8-a81c-6179e59224b7",
   "metadata": {
    "tags": []
   },
   "outputs": [],
   "source": [
    "data = pd.read_csv('data/test_data1.csv', encoding='UTF-8')\n",
    "data = data['내용'][:15]\n",
    "data = data.to_list()\n",
    "data = ' ' .join(data)"
   ]
  },
  {
   "cell_type": "code",
   "execution_count": 14,
   "id": "970aed82-9f0f-4676-b5eb-63410cf8fcde",
   "metadata": {
    "tags": []
   },
   "outputs": [],
   "source": [
    "noun_data = okt.nouns(data)"
   ]
  },
  {
   "cell_type": "code",
   "execution_count": 15,
   "id": "fd01ae0a-6874-4efb-a040-c45f8dc3cf36",
   "metadata": {
    "tags": []
   },
   "outputs": [],
   "source": [
    "count_noun_data = Counter(noun_data)\n",
    "filtered_count_noun_data = {word: count for word, count in count_noun_data.items() if count >= 2}"
   ]
  },
  {
   "cell_type": "code",
   "execution_count": 16,
   "id": "7599cd99-6494-4ffb-a9e2-dd4464833ee0",
   "metadata": {
    "tags": []
   },
   "outputs": [
    {
     "name": "stdout",
     "output_type": "stream",
     "text": [
      "{'가전': 2, '전시회': 3, '더': 2, '대형': 2, '자동차': 2, '소비자': 2, '국제': 2, '올해': 2, '이': 2, '세계': 3, '위원회': 2, '의': 2, '보고서': 2, '명': 4, '현재': 2, '진행': 3, '미디어': 2, '마케팅': 2, '및': 2, '것': 6, '보안': 2, '위': 3, '지출': 2, '지난해': 2, '계획': 2, '알파벳': 2, '자회사': 2, '인트린직': 2, '약': 3, '산업': 2, '다양성': 2, '회사': 2, '기업': 2, '분야': 2, '네트워크': 2, '계속': 2, '전망': 4, '구글': 3, '클라우드': 2, '기능': 2, '추가': 3, '예정': 2, '발표': 3, '서비스': 3, '아프리카': 2, '사람': 4, '농업': 2, '기술': 5, '기구': 2, '마이크로소프트': 2, '나델': 2, '를': 2, '게임': 4, '업계': 2, '생각': 2, '개발자': 4, '가트너': 2, '전': 2, '글로벌': 2, '아마존': 4, '처방약': 2, '배송': 2, '패스': 2}\n"
     ]
    }
   ],
   "source": [
    "print(filtered_count_noun_data)"
   ]
  },
  {
   "cell_type": "code",
   "execution_count": 114,
   "id": "bc4773ae-7e6f-49e4-bd9a-9b9e3ce655b7",
   "metadata": {
    "tags": []
   },
   "outputs": [],
   "source": [
    "# # 데이터프레임에서 '내용' 열의 모든 텍스트를 하나의 문자열로 결합\n",
    "# text = ' '.join(test_df['내용'])\n",
    "\n",
    "# # Komoran 형태소 분석기 초기화\n",
    "# komoran = Komoran()\n",
    "\n",
    "# # 텍스트 토큰화 및 형태소 분석\n",
    "# tokens = word_tokenize(text)\n",
    "# pos_tags = komoran.pos(text)\n",
    "\n",
    "# # 불용어 파일 읽기\n",
    "# stop_words = []\n",
    "# with open('data/불용.txt', 'r', encoding='utf-8') as file:\n",
    "#     stop_words = file.read().splitlines()\n",
    "\n",
    "# # 불용어 제거\n",
    "# filtered_tokens = [token for token in tokens if token not in stop_words]\n",
    "\n",
    "# # 명사 추출\n",
    "# nouns = [token for token, pos in pos_tags if pos.startswith('N')]"
   ]
  },
  {
   "cell_type": "code",
   "execution_count": 17,
   "id": "6635b99e-2e19-4711-bc0e-aef80e11f7dd",
   "metadata": {
    "tags": []
   },
   "outputs": [
    {
     "name": "stdout",
     "output_type": "stream",
     "text": [
      "01월\n",
      " IT | 등장횟수: 5\n",
      " 클라우드 | 등장횟수: 4\n",
      " 게임 | 등장횟수: 4\n",
      " PC | 등장횟수: 3\n",
      " 보안 | 등장횟수: 3\n",
      "\n",
      "02월\n",
      " IT | 등장횟수: 10\n",
      " AI | 등장횟수: 7\n",
      " 글로벌 | 등장횟수: 5\n",
      " 딜로이트 | 등장횟수: 5\n",
      " 기업 | 등장횟수: 5\n",
      "\n",
      "03월\n",
      " IT | 등장횟수: 7\n",
      " 클라우드 | 등장횟수: 5\n",
      " 디지털 | 등장횟수: 5\n",
      " 소셜 | 등장횟수: 3\n",
      " 반도체 | 등장횟수: 3\n",
      "\n",
      "04월\n",
      " 디지털 | 등장횟수: 9\n",
      " 기업 | 등장횟수: 8\n",
      " 모바일 | 등장횟수: 8\n",
      " 클라우드 | 등장횟수: 7\n",
      " 반도체 | 등장횟수: 7\n",
      "\n",
      "05월\n",
      " 비즈니스 | 등장횟수: 5\n",
      " AI | 등장횟수: 5\n",
      " 중국 | 등장횟수: 4\n",
      " EU | 등장횟수: 4\n",
      " IT | 등장횟수: 4\n",
      "\n"
     ]
    }
   ],
   "source": [
    "# 데이터프레임에서 '내용' 열의 모든 텍스트를 하나의 문자열로 결합\n",
    "text = ' '.join(test_df['내용'])\n",
    "\n",
    "# Komoran 형태소 분석기 초기화\n",
    "komoran = Komoran()\n",
    "\n",
    "# 텍스트 토큰화 및 형태소 분석\n",
    "tokens = word_tokenize(text)\n",
    "pos_tags = komoran.pos(text)\n",
    "\n",
    "# 불용어 파일 읽기\n",
    "stop_words = []\n",
    "with open('data/불용.txt', 'r', encoding='utf-8') as file:\n",
    "    stop_words = file.read().splitlines()\n",
    "\n",
    "# 불용어 제거\n",
    "filtered_tokens = [token for token in tokens if token not in stop_words]\n",
    "\n",
    "# 명사 추출\n",
    "nouns = [token for token, pos in pos_tags if pos.startswith('N')]\n",
    "\n",
    "# 데이터프레임에서 '내용'과 '작성일' 열을 가져옴\n",
    "text_data = test_df['내용']\n",
    "date_data = test_df['작성일']\n",
    "\n",
    "# Komoran 형태소 분석기 초기화\n",
    "komoran = Komoran()\n",
    "\n",
    "# 단어 등장 횟수를 저장할 딕셔너리 초기화\n",
    "word_counts = {}\n",
    "\n",
    "# 데이터프레임을 순회하며 월 별로 단어 등장 횟수 집계\n",
    "for text, date in zip(text_data, date_data):\n",
    "    # 텍스트 토큰화 및 형태소 분석\n",
    "    tokens = word_tokenize(text)\n",
    "    pos_tags = komoran.pos(text)\n",
    "    \n",
    "    # 월 추출\n",
    "    month = date.split('.')[1]\n",
    "    \n",
    "    # 불용어 제거\n",
    "    filtered_tokens = [token for token in tokens if token not in stop_words]\n",
    "    \n",
    "    # 단어 등장 횟수 집계\n",
    "    if month in word_counts:\n",
    "        for token in filtered_tokens:\n",
    "            word_counts[month][token] = word_counts[month].get(token, 0) + 1\n",
    "    else:\n",
    "        word_counts[month] = {}\n",
    "        for token in filtered_tokens:\n",
    "            word_counts[month][token] = 1\n",
    "\n",
    "# 횟수가 2이상인 단어만 추출하기\n",
    "min_word_count = 2\n",
    "top_words_limit = 5\n",
    "\n",
    "# 월 별로 상위 단어 추출\n",
    "for month, counts in word_counts.items():\n",
    "    print(f\"{month}월\")\n",
    "    sorted_counts = sorted(counts.items(), key=lambda x: x[1], reverse=True)\n",
    "    \n",
    "    # 횟수가 2이상인 단어 필터링\n",
    "    filtered_counts = [(word, count) for word, count in sorted_counts if count >= min_word_count]\n",
    "    \n",
    "    # 만약 2이상인 단어의 수가 5개 미만이면 모든 단어 추출\n",
    "    if len(filtered_counts) < top_words_limit:\n",
    "        filtered_counts = sorted_counts\n",
    "    \n",
    "    # 상위 단어 출력\n",
    "    top_words = filtered_counts[:top_words_limit]\n",
    "    for word, count in top_words:\n",
    "        print(f\" {word} | 등장횟수: {count}\")\n",
    "    print()\n"
   ]
  },
  {
   "cell_type": "code",
   "execution_count": 18,
   "id": "78c9b8df-0be3-46cb-989a-5311aff61e6c",
   "metadata": {
    "tags": []
   },
   "outputs": [
    {
     "name": "stdout",
     "output_type": "stream",
     "text": [
      "01월\n",
      " IT\n",
      " 클라우드\n",
      " 게임\n",
      " PC\n",
      " 보안\n",
      " 개발자\n",
      " 기업\n",
      "\n",
      "02월\n",
      " IT\n",
      " AI\n",
      " 글로벌\n",
      " 딜로이트\n",
      " 기업\n",
      " 대화형\n",
      " 데이터\n",
      " 비즈니스\n",
      " 원격\n",
      " 근무\n",
      " 한국\n",
      " 플랫폼\n",
      " 업무\n",
      " 마케팅\n",
      "\n",
      "03월\n",
      " IT\n",
      " 클라우드\n",
      " 디지털\n",
      " 소셜\n",
      " 반도체\n",
      " 인터넷\n",
      " 분석\n",
      " 빙\n",
      " 델타\n",
      " 데이터\n",
      " AI\n",
      "\n",
      "04월\n",
      " 디지털\n",
      " 기업\n",
      " 모바일\n",
      " 클라우드\n",
      " 반도체\n",
      " 애플\n",
      " AI\n",
      " 소프트웨어\n",
      " 시장\n",
      " 칩\n",
      " IT\n",
      " 서비스\n",
      " 기계\n",
      " 연구\n",
      " 게임\n",
      " 앱\n",
      " 글로벌\n",
      " 유럽\n",
      " Apple\n",
      " 제조\n",
      " 무선\n",
      " VM웨어\n",
      " 온라인\n",
      " 프라이빗\n",
      " 데이터\n",
      " EU\n",
      " 이커머스\n",
      " 페이\n",
      " 블루투스\n",
      "\n",
      "05월\n",
      " 비즈니스\n",
      " AI\n",
      " 중국\n",
      " EU\n",
      " IT\n",
      " 온라인\n",
      " 일본\n",
      " 말레이시아\n",
      " 장비\n",
      " 생성형\n",
      " 디지털\n",
      " 클라우드\n",
      "\n"
     ]
    }
   ],
   "source": [
    "# 데이터프레임에서 '내용' 열의 모든 텍스트를 하나의 문자열로 결합\n",
    "text = ' '.join(test_df['내용'])\n",
    "\n",
    "# Komoran 형태소 분석기 초기화\n",
    "komoran = Komoran()\n",
    "\n",
    "# 텍스트 토큰화 및 형태소 분석\n",
    "tokens = word_tokenize(text)\n",
    "pos_tags = komoran.pos(text)\n",
    "\n",
    "# 불용어 파일 읽기\n",
    "stop_words = []\n",
    "with open('data/불용.txt', 'r', encoding='utf-8') as file:\n",
    "    stop_words = file.read().splitlines()\n",
    "\n",
    "# 불용어 제거\n",
    "filtered_tokens = [token for token in tokens if token not in stop_words]\n",
    "\n",
    "# 명사 추출\n",
    "nouns = [token for token, pos in pos_tags if pos.startswith('N')]\n",
    "\n",
    "# 데이터프레임에서 '내용'과 '작성일' 열을 가져옴\n",
    "text_data = test_df['내용']\n",
    "date_data = test_df['작성일']\n",
    "\n",
    "# Komoran 형태소 분석기 초기화\n",
    "komoran = Komoran()\n",
    "\n",
    "# 단어 등장 횟수를 저장할 딕셔너리 초기화\n",
    "word_counts = {}\n",
    "\n",
    "# 데이터프레임을 순회하며 월 별로 단어 등장 횟수 집계\n",
    "for text, date in zip(text_data, date_data):\n",
    "    # 텍스트 토큰화 및 형태소 분석\n",
    "    tokens = word_tokenize(text)\n",
    "    pos_tags = komoran.pos(text)\n",
    "    \n",
    "    # 월 추출\n",
    "    month = date.split('.')[1]\n",
    "    \n",
    "    # 불용어 제거\n",
    "    filtered_tokens = [token for token in tokens if token not in stop_words]\n",
    "    \n",
    "    # 단어 등장 횟수 집계\n",
    "    if month in word_counts:\n",
    "        for token in filtered_tokens:\n",
    "            word_counts[month][token] = word_counts[month].get(token, 0) + 1\n",
    "    else:\n",
    "        word_counts[month] = {}\n",
    "        for token in filtered_tokens:\n",
    "            word_counts[month][token] = 1\n",
    "\n",
    "# 횟수가 3이상인 단어 추출하기\n",
    "min_word_count = 3\n",
    "\n",
    "# 데이터 저장을 위한 리스트 초기화\n",
    "data = []\n",
    "\n",
    "# 월 별로 상위 단어 추출\n",
    "for month, counts in word_counts.items():\n",
    "    print(f\"{month}월\")\n",
    "    sorted_counts = sorted(counts.items(), key=lambda x: x[1], reverse=True)\n",
    "    \n",
    "    # 횟수가 3 이상인 단어 필터링\n",
    "    filtered_counts = [(word, count) for word, count in sorted_counts if count >= min_word_count]\n",
    "    \n",
    "    # 상위 단어 출력\n",
    "    for word, count in filtered_counts:\n",
    "        data.append([month, word, count])\n",
    "        print(f\" {word}\")\n",
    "    print()\n",
    "    \n",
    "# 데이터프레임 생성\n",
    "df = pd.DataFrame(data, columns=['월', '단어', '등장횟수'])\n",
    "\n",
    "# CSV 파일로 저장\n",
    "df.to_csv('상위단어추출.csv', index=False)"
   ]
  },
  {
   "cell_type": "code",
   "execution_count": null,
   "id": "ffae99de-c8e0-4051-9100-b10014fe8820",
   "metadata": {},
   "outputs": [],
   "source": []
  }
 ],
 "metadata": {
  "kernelspec": {
   "display_name": "t_project_venv",
   "language": "python",
   "name": "t_project_venv"
  },
  "language_info": {
   "codemirror_mode": {
    "name": "ipython",
    "version": 3
   },
   "file_extension": ".py",
   "mimetype": "text/x-python",
   "name": "python",
   "nbconvert_exporter": "python",
   "pygments_lexer": "ipython3",
   "version": "3.9.13"
  }
 },
 "nbformat": 4,
 "nbformat_minor": 5
}
